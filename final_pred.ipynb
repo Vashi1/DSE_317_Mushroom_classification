{
 "cells": [
  {
   "cell_type": "code",
   "execution_count": null,
   "outputs": [],
   "source": [
    "import warnings\n",
    "\n",
    "import pandas as pd\n",
    "from sklearn.preprocessing import StandardScaler\n",
    "\n",
    "from Data_imputation import knn_imputer\n",
    "from Data_loader import dummy_enc, dummy_enc_y\n",
    "from FeatureSelection import PCA_data\n",
    "from GridSearch_params import split_data\n",
    "\n",
    "\n",
    "warnings.filterwarnings(\"ignore\")\n",
    "X_data = pd.read_csv(\"mushroom_trn_data.csv\")\n",
    "X_data_labels = pd.read_csv(\"mushroom_trn_class_labels.csv\", header=None)\n",
    "y = X_data_labels.drop(0, axis=1)\n",
    "import numpy as np\n",
    "\n",
    "X_data['stalk-root'] = X_data['stalk-root'].replace('?', np.nan)\n",
    "sscaler = StandardScaler()\n",
    "X_data_enc = dummy_enc(X_data)\n",
    "x_data_mean = knn_imputer(X_data_enc)\n",
    "X_data_sc = sscaler.fit_transform(x_data_mean)\n",
    "x_data_pca = PCA_data(X_data_sc)\n",
    "x_tr, x_te, y_tr, y_te = split_data(x_data_pca, y)"
   ],
   "metadata": {
    "collapsed": false
   },
   "id": "c8ff6e555266f546"
  },
  {
   "cell_type": "code",
   "execution_count": null,
   "outputs": [],
   "source": [
    "from decision_tree_Classifiers import dt_kn_classifier_pca_stratfold\n",
    "from random_forest_classifier import rft_kn_classifier_pca_stratfold\n",
    "from logistic_regression_classifier import lr_kn_classifier_pca_stratfold\n",
    "from support_vector_classifier import svc_kn_classifier_pca_stratfold"
   ],
   "metadata": {
    "collapsed": false
   },
   "id": "6f97fb5a093a6953"
  },
  {
   "cell_type": "code",
   "execution_count": null,
   "outputs": [],
   "source": [
    "dt_kn_classifier_pca_stratfold(x_data_pca, y, x_tr, x_te, y_tr, y_te)"
   ],
   "metadata": {
    "collapsed": false
   },
   "id": "44e800b54877b237"
  },
  {
   "cell_type": "code",
   "execution_count": null,
   "outputs": [],
   "source": [
    "rft_kn_classifier_pca_stratfold(x_data_pca, y, x_tr, x_te, y_tr, y_te)"
   ],
   "metadata": {
    "collapsed": false
   },
   "id": "2111cf6c17c7b34c"
  },
  {
   "cell_type": "code",
   "execution_count": null,
   "outputs": [],
   "source": [
    "lr_kn_classifier_pca_stratfold(x_data_pca, y, x_tr, x_te, y_tr, y_te)"
   ],
   "metadata": {
    "collapsed": false
   },
   "id": "ca7e01a451bc1ff4"
  },
  {
   "cell_type": "code",
   "execution_count": null,
   "outputs": [],
   "source": [
    "svc_kn_classifier_pca_stratfold(x_data_pca, y, x_tr, x_te, y_tr, y_te)"
   ],
   "metadata": {
    "collapsed": false
   },
   "id": "7579212d7c639193"
  }
 ],
 "metadata": {
  "kernelspec": {
   "display_name": "Python 3",
   "language": "python",
   "name": "python3"
  },
  "language_info": {
   "codemirror_mode": {
    "name": "ipython",
    "version": 2
   },
   "file_extension": ".py",
   "mimetype": "text/x-python",
   "name": "python",
   "nbconvert_exporter": "python",
   "pygments_lexer": "ipython2",
   "version": "2.7.6"
  }
 },
 "nbformat": 4,
 "nbformat_minor": 5
}

{
 "cells": [
  {
   "cell_type": "code",
   "execution_count": null,
   "id": "initial_id",
   "metadata": {
    "collapsed": true
   },
   "outputs": [],
   "source": [
    "from Data_loader import dummy_enc, dummy_enc_y\n",
    "from Data_imputation import mean_imputer\n",
    "import pandas as pd\n",
    "from sklearn.preprocessing import StandardScaler\n",
    "from FeatureSelection import Kernal_PCA\n",
    "from decision_tree_Classifiers import dt_kn_classfifier_kpca, dt_kn_classifier_kpca_kfold, dt_kn_classifier_kpca_stratfold\n",
    "from GridSearch_params import split_data"
   ]
  },
  {
   "cell_type": "code",
   "execution_count": null,
   "outputs": [],
   "source": [
    "X_data = pd.read_csv(\"mushroom_trn_data.csv\")\n",
    "X_data_labels = pd.read_csv(\"mushroom_trn_class_labels.csv\", header = None)\n",
    "y = X_data_labels.drop(0, axis = 1)"
   ],
   "metadata": {
    "collapsed": false
   },
   "id": "d6a9d24e3f0f2e9c"
  },
  {
   "cell_type": "code",
   "execution_count": null,
   "outputs": [],
   "source": [
    "import numpy as np\n",
    "X_data['stalk-root'] = X_data['stalk-root'].replace('?', np.nan)"
   ],
   "metadata": {
    "collapsed": false
   },
   "id": "cfe5ef673271555e"
  },
  {
   "cell_type": "code",
   "execution_count": null,
   "outputs": [],
   "source": [
    "sscaler = StandardScaler()\n",
    "X_data_enc = dummy_enc(X_data)\n",
    "x_data_mean = mean_imputer(X_data_enc)\n",
    "X_data_sc = sscaler.fit_transform(x_data_mean)"
   ],
   "metadata": {
    "collapsed": false
   },
   "id": "ed3d8e1f43912785"
  },
  {
   "cell_type": "code",
   "execution_count": null,
   "outputs": [],
   "source": [
    "x_data_pca = Kernal_PCA(X_data_sc)"
   ],
   "metadata": {
    "collapsed": false
   },
   "id": "366fbf8175910c79"
  },
  {
   "cell_type": "code",
   "execution_count": null,
   "outputs": [],
   "source": [
    "x_tr, x_te, y_tr, y_te = split_data(x_data_pca, y)"
   ],
   "metadata": {
    "collapsed": false
   },
   "id": "5387bdfed3702cf8"
  },
  {
   "cell_type": "code",
   "execution_count": null,
   "outputs": [],
   "source": [
    "dt_kn_classfifier_kpca(x_tr, x_te, y_tr, y_te)"
   ],
   "metadata": {
    "collapsed": false
   },
   "id": "2ca1cee3467120e0"
  },
  {
   "cell_type": "code",
   "execution_count": null,
   "outputs": [],
   "source": [
    "dt_kn_classifier_kpca_kfold(x_data_pca, y, x_tr, x_te, y_tr, y_te)"
   ],
   "metadata": {
    "collapsed": false
   },
   "id": "a48d6a3d3e87314c"
  },
  {
   "cell_type": "code",
   "execution_count": null,
   "outputs": [],
   "source": [
    "dt_kn_classifier_kpca_stratfold(x_data_pca, y, x_tr, x_te, y_tr, y_te)"
   ],
   "metadata": {
    "collapsed": false
   },
   "id": "2079efffb4bc31be"
  },
  {
   "cell_type": "code",
   "execution_count": null,
   "outputs": [],
   "source": [
    "from random_forest_classifier import rft_kn_classifier_kpca, rft_kn_classifier_kpca_kfold, rft_kn_classifier_kpca_stratfold"
   ],
   "metadata": {
    "collapsed": false
   },
   "id": "471ad821865f1bb8"
  },
  {
   "cell_type": "code",
   "execution_count": null,
   "outputs": [],
   "source": [
    "rft_kn_classifier_kpca(x_tr, x_te, y_tr, y_te)"
   ],
   "metadata": {
    "collapsed": false
   },
   "id": "b6d68044e92cb983"
  },
  {
   "cell_type": "code",
   "execution_count": null,
   "outputs": [],
   "source": [
    "rft_kn_classifier_kpca_kfold(x_data_pca,y,  x_tr, x_te, y_tr, y_te)"
   ],
   "metadata": {
    "collapsed": false
   },
   "id": "ee8820a857b02295"
  },
  {
   "cell_type": "code",
   "execution_count": null,
   "outputs": [],
   "source": [
    "rft_kn_classifier_kpca_stratfold(x_data_pca, y,x_tr, x_te, y_tr, y_te )"
   ],
   "metadata": {
    "collapsed": false
   },
   "id": "82f478eca01381b"
  },
  {
   "cell_type": "code",
   "execution_count": null,
   "outputs": [],
   "source": [
    "from logistic_regression_classifier import lr_kn_classifier_kpca, lr_kn_classifier_kpca_kfold, lr_kn_classifier_kpca_stratfold"
   ],
   "metadata": {
    "collapsed": false
   },
   "id": "c7749afe5779c50c"
  },
  {
   "cell_type": "code",
   "execution_count": null,
   "outputs": [],
   "source": [
    "lr_kn_classifier_kpca(x_tr, x_te, y_tr, y_te)"
   ],
   "metadata": {
    "collapsed": false
   },
   "id": "1145b39709c4d3b9"
  },
  {
   "cell_type": "code",
   "execution_count": null,
   "outputs": [],
   "source": [
    "lr_kn_classifier_kpca_kfold(x_data_pca, y, x_tr, x_te, y_tr, y_te)"
   ],
   "metadata": {
    "collapsed": false
   },
   "id": "52558574c7a0b200"
  },
  {
   "cell_type": "code",
   "execution_count": null,
   "outputs": [],
   "source": [
    "lr_kn_classifier_kpca_stratfold(x_data_pca, y, x_tr, x_te, y_tr, y_te)"
   ],
   "metadata": {
    "collapsed": false
   },
   "id": "339bd6f106da651d"
  },
  {
   "cell_type": "code",
   "execution_count": null,
   "outputs": [],
   "source": [
    "from XGBoost_classifier import xgb_kn_classifier_kpca, xgb_kn_classifier_kpca_kfold, xgb_kn_classifier_kpca_stratfold"
   ],
   "metadata": {
    "collapsed": false
   },
   "id": "57485522f83dfd65"
  },
  {
   "cell_type": "code",
   "execution_count": null,
   "outputs": [],
   "source": [
    "y_enc = dummy_enc_y(y)\n",
    "x_tr_y, x_te_y, y_tr_y, y_te_y = split_data(x_data_pca, y_enc)"
   ],
   "metadata": {
    "collapsed": false
   },
   "id": "4b3b431edcccb66"
  },
  {
   "cell_type": "code",
   "execution_count": null,
   "outputs": [],
   "source": [
    "xgb_kn_classifier_kpca(x_tr_y, x_te_y, y_tr_y, y_te_y)"
   ],
   "metadata": {
    "collapsed": false
   },
   "id": "3ac4d12de9c27c69"
  },
  {
   "cell_type": "code",
   "execution_count": null,
   "outputs": [],
   "source": [
    "xgb_kn_classifier_kpca_kfold(x_data_pca, y_enc, x_tr_y, x_te_y, y_tr_y, y_te_y)"
   ],
   "metadata": {
    "collapsed": false
   },
   "id": "362ee68232fbff48"
  },
  {
   "cell_type": "code",
   "execution_count": null,
   "outputs": [],
   "source": [
    "xgb_kn_classifier_kpca_stratfold(x_data_pca, y_enc, x_tr_y, x_te_y, y_tr_y, y_te_y)"
   ],
   "metadata": {
    "collapsed": false
   },
   "id": "3ff1466a52e77466"
  }
 ],
 "metadata": {
  "kernelspec": {
   "display_name": "Python 3",
   "language": "python",
   "name": "python3"
  },
  "language_info": {
   "codemirror_mode": {
    "name": "ipython",
    "version": 2
   },
   "file_extension": ".py",
   "mimetype": "text/x-python",
   "name": "python",
   "nbconvert_exporter": "python",
   "pygments_lexer": "ipython2",
   "version": "2.7.6"
  }
 },
 "nbformat": 4,
 "nbformat_minor": 5
}

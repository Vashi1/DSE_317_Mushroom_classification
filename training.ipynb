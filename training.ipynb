{
 "cells": [
  {
   "cell_type": "code",
   "execution_count": 19,
   "id": "initial_id",
   "metadata": {
    "collapsed": true,
    "ExecuteTime": {
     "end_time": "2023-11-14T17:59:35.240572684Z",
     "start_time": "2023-11-14T17:59:35.032224814Z"
    }
   },
   "outputs": [],
   "source": [
    "import numpy as np\n",
    "import pandas as pd\n",
    "import seaborn as sns\n",
    "import matplotlib.pyplot as plt "
   ]
  },
  {
   "cell_type": "markdown",
   "source": [
    "# Data Labels Information\n",
    "**Mushroom Data**: Attribute Information: (classes: edible=e, poisonous=p)\n",
    "\n",
    "**cap-shape**: bell=b,conical=c,convex=x,flat=f, knobbed=k,sunken=s\n",
    "\n",
    "**cap-surface**: fibrous=f,grooves=g,scaly=y,smooth=s\n",
    "\n",
    "**cap-color**: brown=n,buff=b,cinnamon=c,gray=g,green=r,pink=p,purple=u,red=e,white=w,yellow=y\n",
    "\n",
    "**bruises**: bruises=t,no=f\n",
    "\n",
    "**odor**: almond=a,anise=l,creosote=c,fishy=y,foul=f,musty=m,none=n,pungent=p,spicy=s\n",
    "\n",
    "**gill-attachment**: attached=a,descending=d,free=f,notched=n\n",
    "\n",
    "**gill-spacing**: close=c,crowded=w,distant=d\n",
    "\n",
    "**gill-size**: broad=b,narrow=n\n",
    "\n",
    "**gill-color**: black=k,brown=n,buff=b,chocolate=h,gray=g, green=r,orange=o,pink=p,purple=u,red=e,white=w,yellow=y\n",
    "\n",
    "**stalk-shape**: enlarging=e,tapering=t\n",
    "\n",
    "**stalk-root**: bulbous=b,club=c,cup=u,equal=e,rhizomorphs=z,rooted=r,missing=?\n",
    "\n",
    "**stalk-surface-above-ring**: fibrous=f,scaly=y,silky=k,smooth=s\n",
    "\n",
    "**stalk-surface-below-ring**: fibrous=f,scaly=y,silky=k,smooth=s\n",
    "\n",
    "**stalk-color-above-ring**: brown=n,buff=b,cinnamon=c,gray=g,orange=o,pink=p,red=e,white=w,yellow=y\n",
    "\n",
    "**stalk-color-below-ring**: brown=n,buff=b,cinnamon=c,gray=g,orange=o,pink=p,red=e,white=w,yellow=y\n",
    "\n",
    "**veil-type**: partial=p,universal=u\n",
    "\n",
    "**veil-color**: brown=n,orange=o,white=w,yellow=y\n",
    "\n",
    "**ring-number**: none=n,one=o,two=t\n",
    "\n",
    "**ring-type**: cobwebby=c,evanescent=e,flaring=f,large=l,none=n,pendant=p,sheathing=s,zone=z\n",
    "\n",
    "**spore-print-color**: black=k,brown=n,buff=b,chocolate=h,green=r,orange=o,purple=u,white=w,yellow=y\n",
    "\n",
    "**population**: abundant=a,clustered=c,numerous=n,scattered=s,several=v,solitary=y\n",
    "\n",
    "**habitat**: grasses=g,leaves=l,meadows=m,paths=p,urban=u,waste=w,woods=d"
   ],
   "metadata": {
    "collapsed": false
   },
   "id": "f982a9ffce6f92da"
  },
  {
   "cell_type": "markdown",
   "source": [
    "# Importing Training Data and Training Labels"
   ],
   "metadata": {
    "collapsed": false
   },
   "id": "22669fbef988abf0"
  },
  {
   "cell_type": "code",
   "execution_count": 20,
   "outputs": [
    {
     "data": {
      "text/plain": "cap-shape                   0\ncap-surface                 0\ncap-color                   0\nbruises                     0\nodor                        0\ngill-attachment             0\ngill-spacing                0\ngill-size                   0\ngill-color                  0\nstalk-shape                 0\nstalk-root                  0\nstalk-surface-above-ring    0\nstalk-surface-below-ring    0\nstalk-color-above-ring      0\nstalk-color-below-ring      0\nveil-type                   0\nveil-color                  0\nring-number                 0\nring-type                   0\nspore-print-color           0\npopulation                  0\nhabitat                     0\ndtype: int64"
     },
     "execution_count": 20,
     "metadata": {},
     "output_type": "execute_result"
    }
   ],
   "source": [
    "X_train_data = pd.read_csv(\"mushroom_trn_data.csv\")\n",
    "X_train_labels = pd.read_csv(\"mushroom_trn_class_labels.csv\", names=[\"column\", 'class'])\n",
    "X_train_data.isnull().sum()"
   ],
   "metadata": {
    "collapsed": false,
    "ExecuteTime": {
     "end_time": "2023-11-14T17:59:35.368704135Z",
     "start_time": "2023-11-14T17:59:35.058512725Z"
    }
   },
   "id": "c07604011a162734"
  },
  {
   "cell_type": "code",
   "execution_count": 21,
   "outputs": [
    {
     "data": {
      "text/plain": "(7311, 2)"
     },
     "execution_count": 21,
     "metadata": {},
     "output_type": "execute_result"
    }
   ],
   "source": [
    "X_train_labels.shape"
   ],
   "metadata": {
    "collapsed": false,
    "ExecuteTime": {
     "end_time": "2023-11-14T17:59:35.391980769Z",
     "start_time": "2023-11-14T17:59:35.133748063Z"
    }
   },
   "id": "ec313df0098f29e1"
  },
  {
   "cell_type": "code",
   "execution_count": 22,
   "outputs": [
    {
     "data": {
      "text/plain": "   column class\n0      d1     e\n1      d2     e\n2      d3     e\n3      d4     p\n4      d5     p\n..    ...   ...\n95    d96     p\n96    d97     p\n97    d98     e\n98    d99     p\n99   d100     e\n\n[100 rows x 2 columns]",
      "text/html": "<div>\n<style scoped>\n    .dataframe tbody tr th:only-of-type {\n        vertical-align: middle;\n    }\n\n    .dataframe tbody tr th {\n        vertical-align: top;\n    }\n\n    .dataframe thead th {\n        text-align: right;\n    }\n</style>\n<table border=\"1\" class=\"dataframe\">\n  <thead>\n    <tr style=\"text-align: right;\">\n      <th></th>\n      <th>column</th>\n      <th>class</th>\n    </tr>\n  </thead>\n  <tbody>\n    <tr>\n      <th>0</th>\n      <td>d1</td>\n      <td>e</td>\n    </tr>\n    <tr>\n      <th>1</th>\n      <td>d2</td>\n      <td>e</td>\n    </tr>\n    <tr>\n      <th>2</th>\n      <td>d3</td>\n      <td>e</td>\n    </tr>\n    <tr>\n      <th>3</th>\n      <td>d4</td>\n      <td>p</td>\n    </tr>\n    <tr>\n      <th>4</th>\n      <td>d5</td>\n      <td>p</td>\n    </tr>\n    <tr>\n      <th>...</th>\n      <td>...</td>\n      <td>...</td>\n    </tr>\n    <tr>\n      <th>95</th>\n      <td>d96</td>\n      <td>p</td>\n    </tr>\n    <tr>\n      <th>96</th>\n      <td>d97</td>\n      <td>p</td>\n    </tr>\n    <tr>\n      <th>97</th>\n      <td>d98</td>\n      <td>e</td>\n    </tr>\n    <tr>\n      <th>98</th>\n      <td>d99</td>\n      <td>p</td>\n    </tr>\n    <tr>\n      <th>99</th>\n      <td>d100</td>\n      <td>e</td>\n    </tr>\n  </tbody>\n</table>\n<p>100 rows × 2 columns</p>\n</div>"
     },
     "execution_count": 22,
     "metadata": {},
     "output_type": "execute_result"
    }
   ],
   "source": [
    "X_train_labels.head(100)"
   ],
   "metadata": {
    "collapsed": false,
    "ExecuteTime": {
     "end_time": "2023-11-14T17:59:35.394897062Z",
     "start_time": "2023-11-14T17:59:35.134359523Z"
    }
   },
   "id": "a20028e2c4512b6a"
  },
  {
   "cell_type": "code",
   "execution_count": 23,
   "outputs": [
    {
     "data": {
      "text/plain": "(7311, 22)"
     },
     "execution_count": 23,
     "metadata": {},
     "output_type": "execute_result"
    }
   ],
   "source": [
    "X_train_data.shape"
   ],
   "metadata": {
    "collapsed": false,
    "ExecuteTime": {
     "end_time": "2023-11-14T17:59:35.402355273Z",
     "start_time": "2023-11-14T17:59:35.134914901Z"
    }
   },
   "id": "f02d6a008bb588c8"
  },
  {
   "cell_type": "code",
   "execution_count": 24,
   "outputs": [
    {
     "data": {
      "text/plain": "  cap-shape cap-surface cap-color bruises odor gill-attachment gill-spacing  \\\n0         f           y         g       t    n               f            c   \n1         f           f         e       t    n               f            c   \n2         f           s         g       f    n               f            w   \n3         x           s         w       f    c               f            w   \n4         x           s         n       f    s               f            c   \n\n  gill-size gill-color stalk-shape  ... stalk-surface-below-ring  \\\n0         b          n           t  ...                        s   \n1         b          p           t  ...                        s   \n2         b          h           t  ...                        f   \n3         n          u           e  ...                        s   \n4         n          b           t  ...                        k   \n\n  stalk-color-above-ring stalk-color-below-ring veil-type veil-color  \\\n0                      p                      w         p          w   \n1                      g                      g         p          w   \n2                      w                      w         p          w   \n3                      w                      w         p          w   \n4                      p                      p         p          w   \n\n  ring-number ring-type spore-print-color population habitat  \n0           o         p                 n          y       d  \n1           o         p                 k          v       d  \n2           o         e                 k          a       g  \n3           o         p                 n          v       d  \n4           o         e                 w          v       p  \n\n[5 rows x 22 columns]",
      "text/html": "<div>\n<style scoped>\n    .dataframe tbody tr th:only-of-type {\n        vertical-align: middle;\n    }\n\n    .dataframe tbody tr th {\n        vertical-align: top;\n    }\n\n    .dataframe thead th {\n        text-align: right;\n    }\n</style>\n<table border=\"1\" class=\"dataframe\">\n  <thead>\n    <tr style=\"text-align: right;\">\n      <th></th>\n      <th>cap-shape</th>\n      <th>cap-surface</th>\n      <th>cap-color</th>\n      <th>bruises</th>\n      <th>odor</th>\n      <th>gill-attachment</th>\n      <th>gill-spacing</th>\n      <th>gill-size</th>\n      <th>gill-color</th>\n      <th>stalk-shape</th>\n      <th>...</th>\n      <th>stalk-surface-below-ring</th>\n      <th>stalk-color-above-ring</th>\n      <th>stalk-color-below-ring</th>\n      <th>veil-type</th>\n      <th>veil-color</th>\n      <th>ring-number</th>\n      <th>ring-type</th>\n      <th>spore-print-color</th>\n      <th>population</th>\n      <th>habitat</th>\n    </tr>\n  </thead>\n  <tbody>\n    <tr>\n      <th>0</th>\n      <td>f</td>\n      <td>y</td>\n      <td>g</td>\n      <td>t</td>\n      <td>n</td>\n      <td>f</td>\n      <td>c</td>\n      <td>b</td>\n      <td>n</td>\n      <td>t</td>\n      <td>...</td>\n      <td>s</td>\n      <td>p</td>\n      <td>w</td>\n      <td>p</td>\n      <td>w</td>\n      <td>o</td>\n      <td>p</td>\n      <td>n</td>\n      <td>y</td>\n      <td>d</td>\n    </tr>\n    <tr>\n      <th>1</th>\n      <td>f</td>\n      <td>f</td>\n      <td>e</td>\n      <td>t</td>\n      <td>n</td>\n      <td>f</td>\n      <td>c</td>\n      <td>b</td>\n      <td>p</td>\n      <td>t</td>\n      <td>...</td>\n      <td>s</td>\n      <td>g</td>\n      <td>g</td>\n      <td>p</td>\n      <td>w</td>\n      <td>o</td>\n      <td>p</td>\n      <td>k</td>\n      <td>v</td>\n      <td>d</td>\n    </tr>\n    <tr>\n      <th>2</th>\n      <td>f</td>\n      <td>s</td>\n      <td>g</td>\n      <td>f</td>\n      <td>n</td>\n      <td>f</td>\n      <td>w</td>\n      <td>b</td>\n      <td>h</td>\n      <td>t</td>\n      <td>...</td>\n      <td>f</td>\n      <td>w</td>\n      <td>w</td>\n      <td>p</td>\n      <td>w</td>\n      <td>o</td>\n      <td>e</td>\n      <td>k</td>\n      <td>a</td>\n      <td>g</td>\n    </tr>\n    <tr>\n      <th>3</th>\n      <td>x</td>\n      <td>s</td>\n      <td>w</td>\n      <td>f</td>\n      <td>c</td>\n      <td>f</td>\n      <td>w</td>\n      <td>n</td>\n      <td>u</td>\n      <td>e</td>\n      <td>...</td>\n      <td>s</td>\n      <td>w</td>\n      <td>w</td>\n      <td>p</td>\n      <td>w</td>\n      <td>o</td>\n      <td>p</td>\n      <td>n</td>\n      <td>v</td>\n      <td>d</td>\n    </tr>\n    <tr>\n      <th>4</th>\n      <td>x</td>\n      <td>s</td>\n      <td>n</td>\n      <td>f</td>\n      <td>s</td>\n      <td>f</td>\n      <td>c</td>\n      <td>n</td>\n      <td>b</td>\n      <td>t</td>\n      <td>...</td>\n      <td>k</td>\n      <td>p</td>\n      <td>p</td>\n      <td>p</td>\n      <td>w</td>\n      <td>o</td>\n      <td>e</td>\n      <td>w</td>\n      <td>v</td>\n      <td>p</td>\n    </tr>\n  </tbody>\n</table>\n<p>5 rows × 22 columns</p>\n</div>"
     },
     "execution_count": 24,
     "metadata": {},
     "output_type": "execute_result"
    }
   ],
   "source": [
    "X_train_data.head()"
   ],
   "metadata": {
    "collapsed": false,
    "ExecuteTime": {
     "end_time": "2023-11-14T17:59:35.405827502Z",
     "start_time": "2023-11-14T17:59:35.135440317Z"
    }
   },
   "id": "20cb4156a4009cb4"
  },
  {
   "cell_type": "code",
   "execution_count": 25,
   "outputs": [
    {
     "name": "stdout",
     "output_type": "stream",
     "text": [
      "<class 'pandas.core.frame.DataFrame'>\n",
      "RangeIndex: 7311 entries, 0 to 7310\n",
      "Data columns (total 22 columns):\n",
      " #   Column                    Non-Null Count  Dtype \n",
      "---  ------                    --------------  ----- \n",
      " 0   cap-shape                 7311 non-null   object\n",
      " 1   cap-surface               7311 non-null   object\n",
      " 2   cap-color                 7311 non-null   object\n",
      " 3   bruises                   7311 non-null   object\n",
      " 4   odor                      7311 non-null   object\n",
      " 5   gill-attachment           7311 non-null   object\n",
      " 6   gill-spacing              7311 non-null   object\n",
      " 7   gill-size                 7311 non-null   object\n",
      " 8   gill-color                7311 non-null   object\n",
      " 9   stalk-shape               7311 non-null   object\n",
      " 10  stalk-root                7311 non-null   object\n",
      " 11  stalk-surface-above-ring  7311 non-null   object\n",
      " 12  stalk-surface-below-ring  7311 non-null   object\n",
      " 13  stalk-color-above-ring    7311 non-null   object\n",
      " 14  stalk-color-below-ring    7311 non-null   object\n",
      " 15  veil-type                 7311 non-null   object\n",
      " 16  veil-color                7311 non-null   object\n",
      " 17  ring-number               7311 non-null   object\n",
      " 18  ring-type                 7311 non-null   object\n",
      " 19  spore-print-color         7311 non-null   object\n",
      " 20  population                7311 non-null   object\n",
      " 21  habitat                   7311 non-null   object\n",
      "dtypes: object(22)\n",
      "memory usage: 1.2+ MB\n"
     ]
    }
   ],
   "source": [
    "X_train_data.info()"
   ],
   "metadata": {
    "collapsed": false,
    "ExecuteTime": {
     "end_time": "2023-11-14T17:59:35.410845878Z",
     "start_time": "2023-11-14T17:59:35.156887598Z"
    }
   },
   "id": "e71fb33267d708a1"
  },
  {
   "cell_type": "code",
   "execution_count": 26,
   "outputs": [
    {
     "data": {
      "text/plain": "  column class\n0     d1     e\n1     d2     e\n2     d3     e\n3     d4     p\n4     d5     p",
      "text/html": "<div>\n<style scoped>\n    .dataframe tbody tr th:only-of-type {\n        vertical-align: middle;\n    }\n\n    .dataframe tbody tr th {\n        vertical-align: top;\n    }\n\n    .dataframe thead th {\n        text-align: right;\n    }\n</style>\n<table border=\"1\" class=\"dataframe\">\n  <thead>\n    <tr style=\"text-align: right;\">\n      <th></th>\n      <th>column</th>\n      <th>class</th>\n    </tr>\n  </thead>\n  <tbody>\n    <tr>\n      <th>0</th>\n      <td>d1</td>\n      <td>e</td>\n    </tr>\n    <tr>\n      <th>1</th>\n      <td>d2</td>\n      <td>e</td>\n    </tr>\n    <tr>\n      <th>2</th>\n      <td>d3</td>\n      <td>e</td>\n    </tr>\n    <tr>\n      <th>3</th>\n      <td>d4</td>\n      <td>p</td>\n    </tr>\n    <tr>\n      <th>4</th>\n      <td>d5</td>\n      <td>p</td>\n    </tr>\n  </tbody>\n</table>\n</div>"
     },
     "execution_count": 26,
     "metadata": {},
     "output_type": "execute_result"
    }
   ],
   "source": [
    "X_train_labels.head()"
   ],
   "metadata": {
    "collapsed": false,
    "ExecuteTime": {
     "end_time": "2023-11-14T17:59:35.413905974Z",
     "start_time": "2023-11-14T17:59:35.177309470Z"
    }
   },
   "id": "74ae67e591a69c75"
  },
  {
   "cell_type": "code",
   "execution_count": 27,
   "outputs": [
    {
     "data": {
      "text/plain": "<Figure size 640x480 with 1 Axes>",
      "image/png": "[encoded data removed]"
     },
     "metadata": {},
     "output_type": "display_data"
    }
   ],
   "source": [
    "X_train_labels[\"class\"].hist()\n",
    "plt.show()"
   ],
   "metadata": {
    "collapsed": false,
    "ExecuteTime": {
     "end_time": "2023-11-14T17:59:35.528962298Z",
     "start_time": "2023-11-14T17:59:35.192024260Z"
    }
   },
   "id": "d584fc62c6ec053c"
  },
  {
   "cell_type": "code",
   "execution_count": 28,
   "outputs": [
    {
     "name": "stdout",
     "output_type": "stream",
     "text": [
      "The unique values in  cap-shape\n",
      "['f' 'x' 'k' 'b' 's' 'c']\n",
      "\n",
      "\n",
      "\n",
      "\n",
      "The unique values in  cap-surface\n",
      "['y' 'f' 's' 'g']\n",
      "\n",
      "\n",
      "\n",
      "\n",
      "The unique values in  cap-color\n",
      "['g' 'e' 'w' 'n' 'y' 'p' 'r' 'b' 'c' 'u']\n",
      "\n",
      "\n",
      "\n",
      "\n",
      "The unique values in  bruises\n",
      "['t' 'f']\n",
      "\n",
      "\n",
      "\n",
      "\n",
      "The unique values in  odor\n",
      "['n' 'c' 's' 'l' 'a' 'f' 'p' 'y' 'm']\n",
      "\n",
      "\n",
      "\n",
      "\n",
      "The unique values in  gill-attachment\n",
      "['f' 'a']\n",
      "\n",
      "\n",
      "\n",
      "\n",
      "The unique values in  gill-spacing\n",
      "['c' 'w']\n",
      "\n",
      "\n",
      "\n",
      "\n",
      "The unique values in  gill-size\n",
      "['b' 'n']\n",
      "\n",
      "\n",
      "\n",
      "\n",
      "The unique values in  gill-color\n",
      "['n' 'p' 'h' 'u' 'b' 'k' 'w' 'g' 'r' 'y' 'e' 'o']\n",
      "\n",
      "\n",
      "\n",
      "\n",
      "The unique values in  stalk-shape\n",
      "['t' 'e']\n",
      "\n",
      "\n",
      "\n",
      "\n",
      "The unique values in  stalk-root\n",
      "['b' 'e' '?' 'c' 'r']\n",
      "\n",
      "\n",
      "\n",
      "\n",
      "The unique values in  stalk-surface-above-ring\n",
      "['s' 'k' 'f' 'y']\n",
      "\n",
      "\n",
      "\n",
      "\n",
      "The unique values in  stalk-surface-below-ring\n",
      "['s' 'f' 'k' 'y']\n",
      "\n",
      "\n",
      "\n",
      "\n",
      "The unique values in  stalk-color-above-ring\n",
      "['p' 'g' 'w' 'b' 'n' 'o' 'e' 'y' 'c']\n",
      "\n",
      "\n",
      "\n",
      "\n",
      "The unique values in  stalk-color-below-ring\n",
      "['w' 'g' 'p' 'e' 'n' 'b' 'o' 'y' 'c']\n",
      "\n",
      "\n",
      "\n",
      "\n",
      "The unique values in  veil-type\n",
      "['p']\n",
      "\n",
      "\n",
      "\n",
      "\n",
      "The unique values in  veil-color\n",
      "['w' 'n' 'o' 'y']\n",
      "\n",
      "\n",
      "\n",
      "\n",
      "The unique values in  ring-number\n",
      "['o' 't' 'n']\n",
      "\n",
      "\n",
      "\n",
      "\n",
      "The unique values in  ring-type\n",
      "['p' 'e' 'l' 'f' 'n']\n",
      "\n",
      "\n",
      "\n",
      "\n",
      "The unique values in  spore-print-color\n",
      "['n' 'k' 'w' 'h' 'r' 'b' 'u' 'o' 'y']\n",
      "\n",
      "\n",
      "\n",
      "\n",
      "The unique values in  population\n",
      "['y' 'v' 'a' 'n' 's' 'c']\n",
      "\n",
      "\n",
      "\n",
      "\n",
      "The unique values in  habitat\n",
      "['d' 'g' 'p' 'm' 'w' 'u' 'l']\n",
      "\n",
      "\n",
      "\n"
     ]
    }
   ],
   "source": [
    "for i in list(X_train_data.columns):\n",
    "    print(\"The unique values in \", i)\n",
    "    print(X_train_data[i].unique())\n",
    "    print('\\n\\n\\n')"
   ],
   "metadata": {
    "collapsed": false,
    "ExecuteTime": {
     "end_time": "2023-11-14T17:59:35.566529507Z",
     "start_time": "2023-11-14T17:59:35.375393464Z"
    }
   },
   "id": "c98f27b91d40120"
  },
  {
   "cell_type": "code",
   "execution_count": 29,
   "outputs": [],
   "source": [
    "y = X_train_labels.drop('column', axis = 1)"
   ],
   "metadata": {
    "collapsed": false,
    "ExecuteTime": {
     "end_time": "2023-11-14T17:59:35.570107197Z",
     "start_time": "2023-11-14T17:59:35.397038605Z"
    }
   },
   "id": "4f0949cf8f0e4029"
  },
  {
   "cell_type": "markdown",
   "source": [
    "*Changing the missing values to np.nan in the training data*"
   ],
   "metadata": {
    "collapsed": false
   },
   "id": "e636887d2de4136"
  },
  {
   "cell_type": "code",
   "execution_count": 30,
   "outputs": [],
   "source": [
    "X_train_data['stalk-root'] = X_train_data['stalk-root'].replace('?', np.nan)"
   ],
   "metadata": {
    "collapsed": false,
    "ExecuteTime": {
     "end_time": "2023-11-14T17:59:35.627669476Z",
     "start_time": "2023-11-14T17:59:35.403374607Z"
    }
   },
   "id": "d95c4668369f1dcf"
  },
  {
   "cell_type": "code",
   "execution_count": 31,
   "outputs": [
    {
     "data": {
      "text/plain": "cap-shape                      0\ncap-surface                    0\ncap-color                      0\nbruises                        0\nodor                           0\ngill-attachment                0\ngill-spacing                   0\ngill-size                      0\ngill-color                     0\nstalk-shape                    0\nstalk-root                  2235\nstalk-surface-above-ring       0\nstalk-surface-below-ring       0\nstalk-color-above-ring         0\nstalk-color-below-ring         0\nveil-type                      0\nveil-color                     0\nring-number                    0\nring-type                      0\nspore-print-color              0\npopulation                     0\nhabitat                        0\ndtype: int64"
     },
     "execution_count": 31,
     "metadata": {},
     "output_type": "execute_result"
    }
   ],
   "source": [
    "X_train_data.isnull().sum()"
   ],
   "metadata": {
    "collapsed": false,
    "ExecuteTime": {
     "end_time": "2023-11-14T17:59:35.636095199Z",
     "start_time": "2023-11-14T17:59:35.443947784Z"
    }
   },
   "id": "99bf92916af59043"
  },
  {
   "cell_type": "code",
   "execution_count": 32,
   "outputs": [],
   "source": [
    "from Data_loader import dummy_enc"
   ],
   "metadata": {
    "collapsed": false,
    "ExecuteTime": {
     "end_time": "2023-11-14T17:59:35.636683263Z",
     "start_time": "2023-11-14T17:59:35.444831835Z"
    }
   },
   "id": "7b7c612c8e644be3"
  },
  {
   "cell_type": "code",
   "execution_count": 33,
   "outputs": [],
   "source": [
    "X_train_data_enc = dummy_enc(X_train_data)"
   ],
   "metadata": {
    "collapsed": false,
    "ExecuteTime": {
     "end_time": "2023-11-14T17:59:35.692865199Z",
     "start_time": "2023-11-14T17:59:35.447204762Z"
    }
   },
   "id": "bff860fc75543447"
  },
  {
   "cell_type": "code",
   "execution_count": 34,
   "outputs": [
    {
     "data": {
      "text/plain": "<Figure size 640x480 with 1 Axes>",
      "image/png": "[encoded data removed]"
     },
     "metadata": {},
     "output_type": "display_data"
    }
   ],
   "source": [
    "from sklearn.decomposition import PCA\n",
    "import matplotlib.pyplot as plt\n",
    "\n",
    "pca = PCA().fit(X_train_data_enc)  # X is your data matrix\n",
    "Y = np.arange(1, 117)\n",
    "xtic = np.arange(1, 117, 8)\n",
    "plt.plot(Y, pca.explained_variance_ratio_)\n",
    "plt.xlabel('Number of Components')\n",
    "plt.ylabel('Cumulative Explained Variance')\n",
    "plt.xticks(xtic)\n",
    "plt.show()"
   ],
   "metadata": {
    "collapsed": false,
    "ExecuteTime": {
     "end_time": "2023-11-14T17:59:36.179558179Z",
     "start_time": "2023-11-14T17:59:35.499881086Z"
    }
   },
   "id": "d1128554dc86fe61"
  },
  {
   "cell_type": "code",
   "execution_count": 35,
   "outputs": [
    {
     "name": "stdout",
     "output_type": "stream",
     "text": [
      "Best number of components: 69\n"
     ]
    }
   ],
   "source": [
    "from sklearn.decomposition import PCA\n",
    "from sklearn.linear_model import LogisticRegression\n",
    "from sklearn.model_selection import cross_val_score\n",
    "import numpy as np\n",
    "\n",
    "n_features = X_train_data_enc.shape[1]  # Number of features in your data\n",
    "components_to_test = range(1, n_features + 1)\n",
    "best_score = -np.inf\n",
    "best_n_components = None\n",
    "\n",
    "for n_components in components_to_test:\n",
    "    pca = PCA(n_components=n_components)\n",
    "    X_pca = pca.fit_transform(X_train_data_enc)\n",
    "\n",
    "    model = LogisticRegression()  # or any other model\n",
    "    score = cross_val_score(model, X_pca, np.array(y).ravel(), cv=5, n_jobs=-1).mean()\n",
    "\n",
    "    if score > best_score:\n",
    "        best_score = score\n",
    "        best_n_components = n_components\n",
    "\n",
    "print(\"Best number of components:\", best_n_components)\n"
   ],
   "metadata": {
    "collapsed": false,
    "ExecuteTime": {
     "end_time": "2023-11-14T18:00:18.418285197Z",
     "start_time": "2023-11-14T17:59:35.936089642Z"
    }
   },
   "id": "ff6c1597ec2a1d59"
  },
  {
   "cell_type": "code",
   "execution_count": 36,
   "outputs": [
    {
     "name": "stdout",
     "output_type": "stream",
     "text": [
      "Best number of components: 10\n"
     ]
    }
   ],
   "source": [
    "from sklearn.decomposition import PCA\n",
    "from sklearn.ensemble import RandomForestClassifier \n",
    "from sklearn.model_selection import cross_val_score\n",
    "import numpy as np\n",
    "\n",
    "n_features = X_train_data_enc.shape[1]  # Number of features in your data\n",
    "components_to_test = range(1, n_features + 1)\n",
    "best_score = -np.inf\n",
    "best_n_components = None\n",
    "\n",
    "for n_components in components_to_test:\n",
    "    pca = PCA(n_components=n_components)\n",
    "    X_pca = pca.fit_transform(X_train_data_enc)\n",
    "    \n",
    "    model = RandomForestClassifier() \n",
    "    score = cross_val_score(model, X_pca, np.array(y).ravel(), cv=5, n_jobs=-1).mean()\n",
    "    \n",
    "    if score > best_score:\n",
    "        best_score = score\n",
    "        best_n_components = n_components\n",
    "\n",
    "print(\"Best number of components:\", best_n_components)\n"
   ],
   "metadata": {
    "collapsed": false,
    "ExecuteTime": {
     "end_time": "2023-11-14T18:08:52.196436457Z",
     "start_time": "2023-11-14T18:00:18.423763687Z"
    }
   },
   "id": "5424208c3d976a64"
  },
  {
   "cell_type": "code",
   "execution_count": null,
   "outputs": [],
   "source": [
    "from sklearn.decomposition import KernelPCA\n",
    "from sklearn.ensemble import RandomForestClassifier \n",
    "from sklearn.model_selection import cross_val_score\n",
    "import numpy as np\n",
    "\n",
    "n_features = X_train_data_enc.shape[1]  # Number of features in your data\n",
    "components_to_test = range(1, n_features + 1)\n",
    "best_score = -np.inf\n",
    "best_n_components = None\n",
    "\n",
    "for n_components in components_to_test:\n",
    "    pca = KernelPCA(n_components=n_components)\n",
    "    X_pca = pca.fit_transform(X_train_data_enc)\n",
    "    \n",
    "    model = RandomForestClassifier() \n",
    "    score = cross_val_score(model, X_pca, np.array(y).ravel(), cv=5).mean()\n",
    "    \n",
    "    if score > best_score:\n",
    "        best_score = score\n",
    "        best_n_components = n_components\n",
    "\n",
    "print(\"Best number of components:\", best_n_components)"
   ],
   "metadata": {
    "collapsed": false,
    "is_executing": true,
    "ExecuteTime": {
     "start_time": "2023-11-14T18:08:41.060839130Z"
    }
   },
   "id": "d7e4f61ecec84fee"
  }
 ],
 "metadata": {
  "kernelspec": {
   "display_name": "Python 3",
   "language": "python",
   "name": "python3"
  },
  "language_info": {
   "codemirror_mode": {
    "name": "ipython",
    "version": 2
   },
   "file_extension": ".py",
   "mimetype": "text/x-python",
   "name": "python",
   "nbconvert_exporter": "python",
   "pygments_lexer": "ipython2",
   "version": "2.7.6"
  }
 },
 "nbformat": 4,
 "nbformat_minor": 5
}

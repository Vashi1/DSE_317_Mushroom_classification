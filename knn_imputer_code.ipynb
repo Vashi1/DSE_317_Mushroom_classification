{
 "cells": [
  {
   "cell_type": "code",
   "execution_count": null,
   "id": "initial_id",
   "metadata": {
    "collapsed": true,
    "ExecuteTime": {
     "start_time": "2023-11-17T08:49:03.097494272Z"
    }
   },
   "outputs": [],
   "source": [
    "from Data_loader import dummy_enc, dummy_enc_y\n",
    "from Data_imputation import knn_imputer\n",
    "import pandas as pd\n",
    "from sklearn.preprocessing import StandardScaler\n",
    "from FeatureSelection import PCA_data, Kernal_PCA, TrSVD\n",
    "from decision_tree_Classifiers import dt_kn_classifier_pca, dt_kn_classifier_pca_kfold, dt_kn_classifier_pca_stratfold\n",
    "from GridSearch_params import split_data\n",
    "import warnings\n",
    "warnings.filterwarnings(\"ignore\")"
   ]
  },
  {
   "cell_type": "code",
   "execution_count": null,
   "outputs": [],
   "source": [
    "X_data = pd.read_csv(\"mushroom_trn_data.csv\")\n",
    "X_data_labels = pd.read_csv(\"mushroom_trn_class_labels.csv\", header = None)\n",
    "y = X_data_labels.drop(0, axis = 1)"
   ],
   "metadata": {
    "collapsed": false,
    "ExecuteTime": {
     "end_time": "2023-11-17T08:49:03.119626077Z",
     "start_time": "2023-11-17T08:49:03.097594561Z"
    }
   },
   "id": "d6a9d24e3f0f2e9c"
  },
  {
   "cell_type": "code",
   "execution_count": null,
   "outputs": [],
   "source": [
    "import numpy as np\n",
    "X_data['stalk-root'] = X_data['stalk-root'].replace('?', np.nan)"
   ],
   "metadata": {
    "collapsed": false,
    "ExecuteTime": {
     "start_time": "2023-11-17T08:49:03.097691863Z"
    }
   },
   "id": "24279b531fdfc100"
  },
  {
   "cell_type": "code",
   "execution_count": null,
   "outputs": [],
   "source": [
    "sscaler = StandardScaler()\n",
    "X_data_enc = dummy_enc(X_data)\n",
    "x_data_mean = knn_imputer(X_data_enc)\n",
    "X_data_sc = sscaler.fit_transform(x_data_mean)"
   ],
   "metadata": {
    "collapsed": false,
    "ExecuteTime": {
     "start_time": "2023-11-17T08:49:03.097811738Z"
    }
   },
   "id": "ed3d8e1f43912785"
  },
  {
   "cell_type": "code",
   "execution_count": null,
   "outputs": [],
   "source": [
    "x_data_pca = PCA_data(X_data_sc)"
   ],
   "metadata": {
    "collapsed": false,
    "ExecuteTime": {
     "start_time": "2023-11-17T08:49:03.097916534Z"
    }
   },
   "id": "366fbf8175910c79"
  },
  {
   "cell_type": "code",
   "execution_count": null,
   "outputs": [],
   "source": [
    "x_tr, x_te, y_tr, y_te = split_data(x_data_pca, y)"
   ],
   "metadata": {
    "collapsed": false,
    "ExecuteTime": {
     "start_time": "2023-11-17T08:49:03.098014638Z"
    }
   },
   "id": "5387bdfed3702cf8"
  },
  {
   "cell_type": "code",
   "execution_count": null,
   "outputs": [],
   "source": [
    "dt_kn_classifier_pca(x_tr, x_te, y_tr, y_te)"
   ],
   "metadata": {
    "collapsed": false,
    "ExecuteTime": {
     "start_time": "2023-11-17T08:49:03.098114526Z"
    }
   },
   "id": "2ca1cee3467120e0"
  },
  {
   "cell_type": "code",
   "execution_count": null,
   "outputs": [],
   "source": [
    "dt_kn_classifier_pca_kfold(x_data_pca, y, x_tr, x_te, y_tr, y_te)"
   ],
   "metadata": {
    "collapsed": false,
    "ExecuteTime": {
     "start_time": "2023-11-17T08:49:03.098332214Z"
    }
   },
   "id": "a48d6a3d3e87314c"
  },
  {
   "cell_type": "code",
   "execution_count": null,
   "outputs": [],
   "source": [
    "dt_kn_classifier_pca_stratfold(x_data_pca, y, x_tr, x_te, y_tr, y_te)"
   ],
   "metadata": {
    "collapsed": false,
    "ExecuteTime": {
     "start_time": "2023-11-17T08:49:03.099434150Z"
    }
   },
   "id": "2079efffb4bc31be"
  },
  {
   "cell_type": "code",
   "execution_count": null,
   "outputs": [],
   "source": [
    "from random_forest_classifier import rft_kn_classifier_pca, rft_kn_classifier_pca_kfold, rft_kn_classifier_pca_stratfold"
   ],
   "metadata": {
    "collapsed": false,
    "ExecuteTime": {
     "start_time": "2023-11-17T08:49:03.124760766Z"
    }
   },
   "id": "471ad821865f1bb8"
  },
  {
   "cell_type": "code",
   "execution_count": null,
   "outputs": [],
   "source": [
    "rft_kn_classifier_pca(x_tr, x_te, y_tr, y_te)"
   ],
   "metadata": {
    "collapsed": false,
    "ExecuteTime": {
     "start_time": "2023-11-17T08:49:03.124903062Z"
    }
   },
   "id": "b6d68044e92cb983"
  },
  {
   "cell_type": "code",
   "execution_count": null,
   "outputs": [],
   "source": [
    "rft_kn_classifier_pca_kfold(x_data_pca,y,  x_tr, x_te, y_tr, y_te)"
   ],
   "metadata": {
    "collapsed": false,
    "ExecuteTime": {
     "start_time": "2023-11-17T08:49:03.124968465Z"
    }
   },
   "id": "ee8820a857b02295"
  },
  {
   "cell_type": "code",
   "execution_count": null,
   "outputs": [],
   "source": [
    "rft_kn_classifier_pca_stratfold(x_data_pca, y,x_tr, x_te, y_tr, y_te )"
   ],
   "metadata": {
    "collapsed": false,
    "ExecuteTime": {
     "start_time": "2023-11-17T08:49:03.125033166Z"
    }
   },
   "id": "82f478eca01381b"
  },
  {
   "cell_type": "code",
   "execution_count": null,
   "outputs": [],
   "source": [
    "from logistic_regression_classifier import lr_kn_classifier_pca, lr_kn_classifier_pca_kfold, lr_kn_classifier_pca_stratfold"
   ],
   "metadata": {
    "collapsed": false,
    "ExecuteTime": {
     "end_time": "2023-11-17T08:49:03.179786787Z",
     "start_time": "2023-11-17T08:49:03.125100483Z"
    }
   },
   "id": "c7749afe5779c50c"
  },
  {
   "cell_type": "code",
   "execution_count": null,
   "outputs": [],
   "source": [
    "lr_kn_classifier_pca(x_tr, x_te, y_tr, y_te)"
   ],
   "metadata": {
    "collapsed": false,
    "ExecuteTime": {
     "start_time": "2023-11-17T08:49:03.125165545Z"
    }
   },
   "id": "1145b39709c4d3b9"
  },
  {
   "cell_type": "code",
   "execution_count": null,
   "outputs": [],
   "source": [
    "lr_kn_classifier_pca_kfold(x_data_pca, y, x_tr, x_te, y_tr, y_te)"
   ],
   "metadata": {
    "collapsed": false,
    "ExecuteTime": {
     "start_time": "2023-11-17T08:49:03.125231068Z"
    }
   },
   "id": "52558574c7a0b200"
  },
  {
   "cell_type": "code",
   "execution_count": null,
   "outputs": [],
   "source": [
    "lr_kn_classifier_pca_stratfold(x_data_pca, y, x_tr, x_te, y_tr, y_te)"
   ],
   "metadata": {
    "collapsed": false,
    "ExecuteTime": {
     "start_time": "2023-11-17T08:49:03.125297873Z"
    }
   },
   "id": "339bd6f106da651d"
  },
  {
   "cell_type": "code",
   "execution_count": null,
   "outputs": [],
   "source": [
    "y_enc = dummy_enc_y(y)\n",
    "x_tr_y, x_te_y, y_tr_y, y_te_y = split_data(x_data_pca, y_enc)"
   ],
   "metadata": {
    "collapsed": false,
    "ExecuteTime": {
     "start_time": "2023-11-17T08:49:03.125366061Z"
    }
   },
   "id": "cec0b88a429abd0d"
  },
  {
   "cell_type": "code",
   "execution_count": null,
   "outputs": [],
   "source": [
    "from XGBoost_classifier import xgb_kn_classifier_pca, xgb_kn_classifier_pca_kfold, xgb_kn_classifier_pca_stratfold"
   ],
   "metadata": {
    "collapsed": false,
    "ExecuteTime": {
     "start_time": "2023-11-17T08:49:03.125435681Z"
    }
   },
   "id": "57485522f83dfd65"
  },
  {
   "cell_type": "code",
   "execution_count": null,
   "outputs": [],
   "source": [
    "xgb_kn_classifier_pca(x_tr_y, x_te_y, y_tr_y, y_te_y)"
   ],
   "metadata": {
    "collapsed": false,
    "ExecuteTime": {
     "start_time": "2023-11-17T08:49:03.125514740Z"
    }
   },
   "id": "3ac4d12de9c27c69"
  },
  {
   "cell_type": "code",
   "execution_count": null,
   "outputs": [],
   "source": [
    "xgb_kn_classifier_pca_kfold(x_data_pca, y_enc, x_tr_y, x_te_y, y_tr_y, y_te_y)"
   ],
   "metadata": {
    "collapsed": false,
    "ExecuteTime": {
     "start_time": "2023-11-17T08:49:03.125577547Z"
    }
   },
   "id": "362ee68232fbff48"
  },
  {
   "cell_type": "code",
   "execution_count": null,
   "outputs": [],
   "source": [
    "xgb_kn_classifier_pca_stratfold(x_data_pca, y_enc, x_tr_y, x_te_y, y_tr_y, y_te_y)"
   ],
   "metadata": {
    "collapsed": false,
    "ExecuteTime": {
     "start_time": "2023-11-17T08:49:03.125635877Z"
    }
   },
   "id": "3ff1466a52e77466"
  },
  {
   "cell_type": "code",
   "execution_count": null,
   "outputs": [],
   "source": [
    "from support_vector_classifier import svc_kn_classifier_pca, svc_kn_classifier_pca_kfold, svc_kn_classifier_pca_stratfold"
   ],
   "metadata": {
    "collapsed": false,
    "ExecuteTime": {
     "start_time": "2023-11-17T08:49:03.125834970Z"
    }
   },
   "id": "7641d97c19c1617c"
  },
  {
   "cell_type": "code",
   "execution_count": null,
   "outputs": [],
   "source": [
    "svc_kn_classifier_pca(x_tr, x_te, y_tr, y_te)"
   ],
   "metadata": {
    "collapsed": false,
    "ExecuteTime": {
     "start_time": "2023-11-17T08:49:03.126756198Z"
    }
   },
   "id": "c5f811aa7c935024"
  },
  {
   "cell_type": "code",
   "execution_count": null,
   "outputs": [],
   "source": [
    "svc_kn_classifier_pca_kfold(x_data_pca, y, x_tr, x_te, y_tr, y_te)"
   ],
   "metadata": {
    "collapsed": false,
    "ExecuteTime": {
     "start_time": "2023-11-17T08:49:03.169507029Z"
    }
   },
   "id": "65d9b04db4267ee"
  },
  {
   "cell_type": "code",
   "execution_count": null,
   "outputs": [],
   "source": [
    "svc_kn_classifier_pca_stratfold(x_data_pca, y, x_tr, x_te, y_tr, y_te)"
   ],
   "metadata": {
    "collapsed": false,
    "ExecuteTime": {
     "start_time": "2023-11-17T08:49:03.169662521Z"
    }
   },
   "id": "2c007f30b02e305b"
  }
 ],
 "metadata": {
  "kernelspec": {
   "display_name": "Python 3",
   "language": "python",
   "name": "python3"
  },
  "language_info": {
   "codemirror_mode": {
    "name": "ipython",
    "version": 2
   },
   "file_extension": ".py",
   "mimetype": "text/x-python",
   "name": "python",
   "nbconvert_exporter": "python",
   "pygments_lexer": "ipython2",
   "version": "2.7.6"
  }
 },
 "nbformat": 4,
 "nbformat_minor": 5
}

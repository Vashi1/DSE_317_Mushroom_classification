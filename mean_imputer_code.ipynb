{
 "cells": [
  {
   "cell_type": "code",
   "execution_count": 1,
   "id": "initial_id",
   "metadata": {
    "collapsed": true,
    "ExecuteTime": {
     "end_time": "2023-11-14T18:31:58.101317671Z",
     "start_time": "2023-11-14T18:31:57.811105199Z"
    }
   },
   "outputs": [],
   "source": [
    "from Data_loader import dummy_enc\n",
    "from Data_imputation import mean_imputer\n",
    "import pandas as pd\n",
    "from sklearn.preprocessing import StandardScaler\n",
    "from FeatureSelection import PCA_data, Kernal_PCA, TrSVD\n",
    "from decision_tree_Classifiers import dt_kn_classifier_pca, dt_kn_classifier_pca_kfold, dt_kn_classifier_pca_stratfold\n",
    "from "
   ]
  },
  {
   "cell_type": "code",
   "execution_count": 2,
   "outputs": [],
   "source": [
    "X_data = pd.read_csv(\"mushroom_trn_data.csv\")\n",
    "X_data_labels = pd.read_csv(\"mushroom_trn_class_labels.csv\", header = None)\n",
    "y = X_data_labels.drop(0, axis = 1)"
   ],
   "metadata": {
    "collapsed": false,
    "ExecuteTime": {
     "end_time": "2023-11-14T18:31:58.143760080Z",
     "start_time": "2023-11-14T18:31:58.104116351Z"
    }
   },
   "id": "d6a9d24e3f0f2e9c"
  },
  {
   "cell_type": "code",
   "execution_count": 3,
   "outputs": [],
   "source": [
    "sscaler = StandardScaler()\n",
    "X_data_enc = dummy_enc(X_data)\n",
    "X_data_sc = sscaler.fit_transform(X_data_enc)"
   ],
   "metadata": {
    "collapsed": false,
    "ExecuteTime": {
     "end_time": "2023-11-14T18:31:58.207204393Z",
     "start_time": "2023-11-14T18:31:58.139913013Z"
    }
   },
   "id": "ed3d8e1f43912785"
  },
  {
   "cell_type": "code",
   "execution_count": 5,
   "outputs": [],
   "source": [
    "x_data_pca = PCA_data(X_data_sc)"
   ],
   "metadata": {
    "collapsed": false,
    "ExecuteTime": {
     "end_time": "2023-11-14T18:32:05.098822382Z",
     "start_time": "2023-11-14T18:32:04.993975527Z"
    }
   },
   "id": "366fbf8175910c79"
  },
  {
   "cell_type": "code",
   "execution_count": null,
   "outputs": [],
   "source": [],
   "metadata": {
    "collapsed": false
   },
   "id": "2ca1cee3467120e0"
  }
 ],
 "metadata": {
  "kernelspec": {
   "display_name": "Python 3",
   "language": "python",
   "name": "python3"
  },
  "language_info": {
   "codemirror_mode": {
    "name": "ipython",
    "version": 2
   },
   "file_extension": ".py",
   "mimetype": "text/x-python",
   "name": "python",
   "nbconvert_exporter": "python",
   "pygments_lexer": "ipython2",
   "version": "2.7.6"
  }
 },
 "nbformat": 4,
 "nbformat_minor": 5
}

{
 "cells": [
  {
   "cell_type": "code",
   "execution_count": 1,
   "id": "initial_id",
   "metadata": {
    "collapsed": true,
    "ExecuteTime": {
     "end_time": "2023-11-17T06:02:41.796289969Z",
     "start_time": "2023-11-17T06:02:39.851641811Z"
    }
   },
   "outputs": [],
   "source": [
    "from Data_loader import dummy_enc, dummy_enc_y\n",
    "from Data_imputation import mean_imputer\n",
    "import pandas as pd\n",
    "from sklearn.preprocessing import StandardScaler\n",
    "from FeatureSelection import TrSVD\n",
    "from decision_tree_Classifiers import dt_kn_classfifier_trsvd, dt_kn_classifier_trsvd_kfold, dt_kn_classifier_trsvd_stratfold\n",
    "from GridSearch_params import split_data"
   ]
  },
  {
   "cell_type": "code",
   "execution_count": 2,
   "outputs": [],
   "source": [
    "X_data = pd.read_csv(\"mushroom_trn_data.csv\")\n",
    "X_data_labels = pd.read_csv(\"mushroom_trn_class_labels.csv\", header = None)\n",
    "y = X_data_labels.drop(0, axis = 1)"
   ],
   "metadata": {
    "collapsed": false,
    "ExecuteTime": {
     "end_time": "2023-11-17T06:02:41.834593040Z",
     "start_time": "2023-11-17T06:02:41.799977324Z"
    }
   },
   "id": "d6a9d24e3f0f2e9c"
  },
  {
   "cell_type": "code",
   "execution_count": 3,
   "outputs": [],
   "source": [
    "import numpy as np\n",
    "X_data['stalk-root'] = X_data['stalk-root'].replace('?', np.nan)"
   ],
   "metadata": {
    "collapsed": false,
    "ExecuteTime": {
     "end_time": "2023-11-17T06:02:41.854872149Z",
     "start_time": "2023-11-17T06:02:41.837236798Z"
    }
   },
   "id": "76d221322d4fb4b8"
  },
  {
   "cell_type": "code",
   "execution_count": 4,
   "outputs": [],
   "source": [
    "sscaler = StandardScaler()\n",
    "X_data_enc = dummy_enc(X_data)\n",
    "x_data_mean = mean_imputer(X_data_enc)\n",
    "X_data_sc = sscaler.fit_transform(x_data_mean)"
   ],
   "metadata": {
    "collapsed": false,
    "ExecuteTime": {
     "end_time": "2023-11-17T06:02:41.959017795Z",
     "start_time": "2023-11-17T06:02:41.843593097Z"
    }
   },
   "id": "ed3d8e1f43912785"
  },
  {
   "cell_type": "code",
   "execution_count": 5,
   "outputs": [],
   "source": [
    "x_data_pca = TrSVD(X_data_sc)"
   ],
   "metadata": {
    "collapsed": false,
    "ExecuteTime": {
     "end_time": "2023-11-17T06:02:42.073126775Z",
     "start_time": "2023-11-17T06:02:41.965309484Z"
    }
   },
   "id": "366fbf8175910c79"
  },
  {
   "cell_type": "code",
   "execution_count": 6,
   "outputs": [],
   "source": [
    "x_tr, x_te, y_tr, y_te = split_data(x_data_pca, y)"
   ],
   "metadata": {
    "collapsed": false,
    "ExecuteTime": {
     "end_time": "2023-11-17T06:02:42.132321073Z",
     "start_time": "2023-11-17T06:02:42.079622858Z"
    }
   },
   "id": "5387bdfed3702cf8"
  },
  {
   "cell_type": "code",
   "execution_count": null,
   "outputs": [],
   "source": [
    "dt_kn_classfifier_trsvd(x_tr, x_te, y_tr, y_te)"
   ],
   "metadata": {
    "collapsed": false,
    "ExecuteTime": {
     "start_time": "2023-11-17T06:02:42.125023759Z"
    }
   },
   "id": "2ca1cee3467120e0"
  },
  {
   "cell_type": "code",
   "execution_count": null,
   "outputs": [],
   "source": [
    "dt_kn_classifier_trsvd_kfold(x_data_pca, y, x_tr, x_te, y_tr, y_te)"
   ],
   "metadata": {
    "collapsed": false
   },
   "id": "a48d6a3d3e87314c"
  },
  {
   "cell_type": "code",
   "execution_count": null,
   "outputs": [],
   "source": [
    "dt_kn_classifier_trsvd_stratfold(x_data_pca, y, x_tr, x_te, y_tr, y_te)"
   ],
   "metadata": {
    "collapsed": false
   },
   "id": "2079efffb4bc31be"
  },
  {
   "cell_type": "code",
   "execution_count": null,
   "outputs": [],
   "source": [
    "from random_forest_classifier import rft_kn_classifier_trsvd, rft_kn_classifier_trsvd_kfold, rft_kn_classifier_trsvd_stratfold"
   ],
   "metadata": {
    "collapsed": false
   },
   "id": "471ad821865f1bb8"
  },
  {
   "cell_type": "code",
   "execution_count": null,
   "outputs": [],
   "source": [
    "rft_kn_classifier_trsvd(x_tr, x_te, y_tr, y_te)"
   ],
   "metadata": {
    "collapsed": false
   },
   "id": "b6d68044e92cb983"
  },
  {
   "cell_type": "code",
   "execution_count": null,
   "outputs": [],
   "source": [
    "rft_kn_classifier_trsvd_kfold(x_data_pca,y,  x_tr, x_te, y_tr, y_te)"
   ],
   "metadata": {
    "collapsed": false
   },
   "id": "ee8820a857b02295"
  },
  {
   "cell_type": "code",
   "execution_count": null,
   "outputs": [],
   "source": [
    "rft_kn_classifier_trsvd_stratfold(x_data_pca, y,x_tr, x_te, y_tr, y_te )"
   ],
   "metadata": {
    "collapsed": false
   },
   "id": "82f478eca01381b"
  },
  {
   "cell_type": "code",
   "execution_count": null,
   "outputs": [],
   "source": [
    "from logistic_regression_classifier import lr_kn_classifier_trsvd, lr_kn_classifier_trsvd_kfold, lr_kn_classifier_trsvd_stratfold"
   ],
   "metadata": {
    "collapsed": false
   },
   "id": "c7749afe5779c50c"
  },
  {
   "cell_type": "code",
   "execution_count": null,
   "outputs": [],
   "source": [
    "lr_kn_classifier_trsvd(x_tr, x_te, y_tr, y_te)"
   ],
   "metadata": {
    "collapsed": false
   },
   "id": "1145b39709c4d3b9"
  },
  {
   "cell_type": "code",
   "execution_count": null,
   "outputs": [],
   "source": [
    "lr_kn_classifier_trsvd_kfold(x_data_pca, y, x_tr, x_te, y_tr, y_te)"
   ],
   "metadata": {
    "collapsed": false
   },
   "id": "52558574c7a0b200"
  },
  {
   "cell_type": "code",
   "execution_count": null,
   "outputs": [],
   "source": [
    "lr_kn_classifier_trsvd_stratfold(x_data_pca, y, x_tr, x_te, y_tr, y_te)"
   ],
   "metadata": {
    "collapsed": false
   },
   "id": "339bd6f106da651d"
  },
  {
   "cell_type": "code",
   "execution_count": null,
   "outputs": [],
   "source": [
    "from XGBoost_classifier import xgb_kn_classifier_trsvd, xgb_kn_classifier_trsvd_kfold, xgb_kn_classifier_trsvd_stratfold"
   ],
   "metadata": {
    "collapsed": false
   },
   "id": "57485522f83dfd65"
  },
  {
   "cell_type": "code",
   "execution_count": null,
   "outputs": [],
   "source": [
    "y_enc = dummy_enc_y(y)\n",
    "x_tr_y, x_te_y, y_tr_y, y_te_y = split_data(x_data_pca, y_enc)"
   ],
   "metadata": {
    "collapsed": false
   },
   "id": "4b3b431edcccb66"
  },
  {
   "cell_type": "code",
   "execution_count": null,
   "outputs": [],
   "source": [
    "xgb_kn_classifier_trsvd(x_tr_y, x_te_y, y_tr_y, y_te_y)"
   ],
   "metadata": {
    "collapsed": false
   },
   "id": "3ac4d12de9c27c69"
  },
  {
   "cell_type": "code",
   "execution_count": null,
   "outputs": [],
   "source": [
    "xgb_kn_classifier_trsvd_kfold(x_data_pca, y_enc, x_tr_y, x_te_y, y_tr_y, y_te_y)"
   ],
   "metadata": {
    "collapsed": false
   },
   "id": "362ee68232fbff48"
  },
  {
   "cell_type": "code",
   "execution_count": null,
   "outputs": [],
   "source": [
    "xgb_kn_classifier_trsvd_stratfold(x_data_pca, y_enc, x_tr_y, x_te_y, y_tr_y, y_te_y)"
   ],
   "metadata": {
    "collapsed": false
   },
   "id": "3ff1466a52e77466"
  }
 ],
 "metadata": {
  "kernelspec": {
   "display_name": "Python 3",
   "language": "python",
   "name": "python3"
  },
  "language_info": {
   "codemirror_mode": {
    "name": "ipython",
    "version": 2
   },
   "file_extension": ".py",
   "mimetype": "text/x-python",
   "name": "python",
   "nbconvert_exporter": "python",
   "pygments_lexer": "ipython2",
   "version": "2.7.6"
  }
 },
 "nbformat": 4,
 "nbformat_minor": 5
}
